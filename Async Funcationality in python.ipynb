{
 "cells": [
  {
   "cell_type": "code",
   "execution_count": 2,
   "id": "c801ea51",
   "metadata": {},
   "outputs": [
    {
     "name": "stdout",
     "output_type": "stream",
     "text": [
      "Hello i am the first function\n",
      "Hello i am the second function\n",
      "done\n"
     ]
    }
   ],
   "source": [
    "#Syndhronous or Normay way of Coding\n",
    "def fun1():\n",
    "    print(\"Hello i am the first function\")\n",
    "\n",
    "def fun2():\n",
    "    print(\"Hello i am the second function\")\n",
    "\n",
    "fun1()\n",
    "fun2()\n",
    "\n",
    "print(\"done\")"
   ]
  },
  {
   "cell_type": "code",
   "execution_count": 4,
   "id": "c2129749",
   "metadata": {},
   "outputs": [
    {
     "name": "stdout",
     "output_type": "stream",
     "text": [
      "brewing coffee\n",
      "coffee Ready\n",
      "toasting bagel\n",
      "Bagel Ready\n",
      "Time:5.00 minutes\n"
     ]
    }
   ],
   "source": [
    "import time \n",
    "\n",
    "def brew_coffee():\n",
    "    print(\"brewing coffee\")\n",
    "    time.sleep(3)\n",
    "    print(\"coffee Ready\")\n",
    "\n",
    "def toast_bagel():\n",
    "    print(\"toasting bagel\")\n",
    "    time.sleep(2)\n",
    "    print(\"Bagel Ready\")\n",
    "\n",
    "def main():\n",
    "    start = time.time()\n",
    "\n",
    "    coffee = brew_coffee()\n",
    "    bagel = toast_bagel()\n",
    "\n",
    "    end = time.time()\n",
    "\n",
    "    print(f\"Time:{end-start:.2f} minutes\")\n",
    "\n",
    "main()"
   ]
  },
  {
   "cell_type": "code",
   "execution_count": 8,
   "id": "f8e0095b",
   "metadata": {},
   "outputs": [
    {
     "name": "stdout",
     "output_type": "stream",
     "text": [
      "brewing coffee\n",
      "toasting bagel\n",
      "Bagel Ready\n",
      "coffee Ready\n",
      "Time:3.02 minute\n"
     ]
    }
   ],
   "source": [
    "import time \n",
    "import asyncio\n",
    "\n",
    "async def brew_coffee():\n",
    "    print(\"brewing coffee\")\n",
    "    await asyncio.sleep(3)\n",
    "    print(\"coffee Ready\")\n",
    "\n",
    "async def toast_bagel():\n",
    "    print(\"toasting bagel\")\n",
    "    await asyncio.sleep(2)\n",
    "    print(\"Bagel Ready\")\n",
    "\n",
    "async def main():\n",
    "    start = time.time()\n",
    "\n",
    "    coffee = brew_coffee()\n",
    "    bagel = toast_bagel()\n",
    "\n",
    "    results = await asyncio.gather(coffee,bagel)\n",
    "    end = time.time()\n",
    "\n",
    "    print(f\"Time:{end-start:.2f} minute\")\n",
    "\n",
    "await main()"
   ]
  },
  {
   "cell_type": "code",
   "execution_count": null,
   "id": "00294d09",
   "metadata": {},
   "outputs": [],
   "source": []
  }
 ],
 "metadata": {
  "kernelspec": {
   "display_name": "autogen-venv",
   "language": "python",
   "name": "python3"
  },
  "language_info": {
   "codemirror_mode": {
    "name": "ipython",
    "version": 3
   },
   "file_extension": ".py",
   "mimetype": "text/x-python",
   "name": "python",
   "nbconvert_exporter": "python",
   "pygments_lexer": "ipython3",
   "version": "3.12.11"
  }
 },
 "nbformat": 4,
 "nbformat_minor": 5
}
