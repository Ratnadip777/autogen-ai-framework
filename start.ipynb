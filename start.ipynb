{
 "cells": [
  {
   "cell_type": "code",
   "execution_count": 11,
   "id": "f6c8be0b",
   "metadata": {},
   "outputs": [],
   "source": [
    "from autogen_agentchat.agents import AssistantAgent\n",
    "from autogen_ext.models.openai import OpenAIChatCompletionClient\n",
    "from dotenv import load_dotenv\n",
    "import os\n",
    "\n",
    "load_dotenv()\n",
    "\n",
    "api_key = os.getenv(\"OPENROUTER_API_KEY\")\n"
   ]
  },
  {
   "cell_type": "code",
   "execution_count": 10,
   "id": "6cbb37b6",
   "metadata": {},
   "outputs": [],
   "source": [
    "# model_client = OpenAIChatCompletionClient(\n",
    "#     model=\"deepseek/deepseek-chat-v3.1:free\",\n",
    "#     base_url=\"https://openrouter.ai/api/v1\",\n",
    "#     api_keys=api_key\n",
    "# )\n"
   ]
  },
  {
   "cell_type": "code",
   "execution_count": 9,
   "id": "62b5d63c",
   "metadata": {},
   "outputs": [],
   "source": [
    "# model_client = OpenAIChatCompletionClient(\n",
    "#     base_url=\"https://openrouter.ai/api/v1\",\n",
    "#     model=\"deepseek/deepseek-chat-v3.1:free\",  # choose model from OpenRouter docs or dashboard\n",
    "#     api_key=api_key,  # store your API key in ENV variable\n",
    "#     model_info={\n",
    "#         \"family\":\"deepseek\",\n",
    "#         \"vision\"\n",
    "#     }\n",
    "# )"
   ]
  },
  {
   "cell_type": "code",
   "execution_count": 2,
   "id": "a3cface4",
   "metadata": {},
   "outputs": [
    {
     "name": "stdout",
     "output_type": "stream",
     "text": [
      "I am a computer program designed to simulate conversation, answer questions, and provide information on a wide range of topics. I'm a type of artificial intelligence (AI) called a large language model.\n",
      "\n",
      "My primary function is to process natural language inputs and generate human-like responses that are relevant and accurate. I'm trained on a massive dataset of text from various sources, including books, articles, research papers, and websites.\n",
      "\n",
      "As for who created me, my developers are part of Meta AI, a company that specializes in developing and applying various forms of AI to help humans learn, communicate, and solve complex problems.\n",
      "\n",
      "My specific architecture is based on the transformer model, which was first introduced in 2017 by Vaswani et al. in their paper \"Attention Is All You Need.\" This model has been widely adopted for natural language processing tasks like language translation, question answering, and text generation.\n",
      "\n",
      "I've undergone various training cycles to refine my performance, and I continue to learn from the vast amounts of data I'm exposed to. My goal is to provide accurate and helpful responses that assist users with their queries, while also continuously improving myself through machine learning algorithms.\n",
      "\n",
      "So, in a nutshell, I'm a computer program designed by Meta AI's researchers, built on top of transformer architecture, trained on massive datasets, and constantly learning to improve my performance!\n"
     ]
    }
   ],
   "source": [
    "from autogen_core.models import UserMessage\n",
    "from autogen_ext.models.ollama import OllamaChatCompletionClient\n",
    "\n",
    "# Assuming your Ollama server is running locally on port 11434.\n",
    "ollama_model_client = OllamaChatCompletionClient(model=\"llama3.2\")\n",
    "\n",
    "response = await ollama_model_client.create([UserMessage(content=\"Who are you, who created you?\", source=\"user\")])\n",
    "print(response.content)\n"
   ]
  },
  {
   "cell_type": "code",
   "execution_count": 3,
   "id": "deae5bd9",
   "metadata": {},
   "outputs": [],
   "source": [
    "from autogen_agentchat.agents import AssistantAgent\n",
    "agent_1 = AssistantAgent(name='MyOllamaAgent',model_client=ollama_model_client)"
   ]
  },
  {
   "cell_type": "code",
   "execution_count": 4,
   "id": "90ee9475",
   "metadata": {},
   "outputs": [],
   "source": [
    "result = await agent_1. run(task='Tell me something about you?')"
   ]
  },
  {
   "cell_type": "code",
   "execution_count": 15,
   "id": "670a857f",
   "metadata": {},
   "outputs": [
    {
     "data": {
      "text/plain": [
       "TaskResult(messages=[TextMessage(id='c3058ea4-6e03-41c5-8577-d04eae8d46e0', source='user', models_usage=None, metadata={}, created_at=datetime.datetime(2025, 8, 29, 5, 26, 7, 398094, tzinfo=datetime.timezone.utc), content='Tell me something about you?', type='TextMessage'), TextMessage(id='e5d4bf46-a51f-432f-b992-2cd4fcffd656', source='MyOllamaAgent', models_usage=RequestUsage(prompt_tokens=55, completion_tokens=168), metadata={}, created_at=datetime.datetime(2025, 8, 29, 5, 26, 9, 563347, tzinfo=datetime.timezone.utc), content=\"I'm an artificial intelligence model designed to provide information and answer questions to the best of my abilities. I don't have personal experiences, emotions, or consciousness like humans do, but I'm constantly learning and improving through machine learning algorithms.\\n\\nMy primary function is to understand and respond to natural language inputs, generating human-like text based on the context and content of the conversation. I can process vast amounts of knowledge from various sources, including books, articles, research papers, and more.\\n\\nI'm a large language model, trained on a massive dataset of text from the internet, which allows me to recognize patterns, relationships, and nuances in language. This enables me to generate responses that are informative, engaging, and sometimes even creative.\\n\\nFeel free to ask me anything, and I'll do my best to provide you with helpful and accurate information!\", type='TextMessage')], stop_reason=None)"
      ]
     },
     "execution_count": 15,
     "metadata": {},
     "output_type": "execute_result"
    }
   ],
   "source": [
    "result"
   ]
  },
  {
   "cell_type": "code",
   "execution_count": 23,
   "id": "bc20c81b",
   "metadata": {},
   "outputs": [
    {
     "data": {
      "text/plain": [
       "\"I'm an artificial intelligence model designed to provide information and answer questions to the best of my abilities. I don't have personal experiences, emotions, or consciousness like humans do, but I'm constantly learning and improving through machine learning algorithms.\\n\\nMy primary function is to understand and respond to natural language inputs, generating human-like text based on the context and content of the conversation. I can process vast amounts of knowledge from various sources, including books, articles, research papers, and more.\\n\\nI'm a large language model, trained on a massive dataset of text from the internet, which allows me to recognize patterns, relationships, and nuances in language. This enables me to generate responses that are informative, engaging, and sometimes even creative.\\n\\nFeel free to ask me anything, and I'll do my best to provide you with helpful and accurate information!\""
      ]
     },
     "execution_count": 23,
     "metadata": {},
     "output_type": "execute_result"
    }
   ],
   "source": [
    "result.messages[1].content"
   ]
  },
  {
   "cell_type": "code",
   "execution_count": 13,
   "id": "327b5fc0",
   "metadata": {},
   "outputs": [],
   "source": [
    "contents = [message.content for message in result.messages]"
   ]
  },
  {
   "cell_type": "code",
   "execution_count": 14,
   "id": "6416934f",
   "metadata": {},
   "outputs": [
    {
     "data": {
      "text/plain": [
       "['Tell me something about you?',\n",
       " \"I'm an artificial intelligence model designed to provide information and answer questions to the best of my abilities. I don't have personal experiences, emotions, or consciousness like humans do, but I'm constantly learning and improving through machine learning algorithms.\\n\\nMy primary function is to understand and respond to natural language inputs, generating human-like text based on the context and content of the conversation. I can process vast amounts of knowledge from various sources, including books, articles, research papers, and more.\\n\\nI'm a large language model, trained on a massive dataset of text from the internet, which allows me to recognize patterns, relationships, and nuances in language. This enables me to generate responses that are informative, engaging, and sometimes even creative.\\n\\nFeel free to ask me anything, and I'll do my best to provide you with helpful and accurate information!\"]"
      ]
     },
     "execution_count": 14,
     "metadata": {},
     "output_type": "execute_result"
    }
   ],
   "source": [
    "contents"
   ]
  },
  {
   "cell_type": "code",
   "execution_count": 16,
   "id": "a4949d4e",
   "metadata": {},
   "outputs": [
    {
     "name": "stdout",
     "output_type": "stream",
     "text": [
      "The capital of France is Paris.\n"
     ]
    }
   ],
   "source": [
    "\n",
    "\n",
    "open_router_model_client =  OpenAIChatCompletionClient(\n",
    "    base_url=\"https://openrouter.ai/api/v1\",\n",
    "    model=\"qwen/qwen3-coder:free\",\n",
    "    api_key = api_key,\n",
    "    model_info={\n",
    "        \"family\":'qwen',\n",
    "        \"vision\" :True,\n",
    "        \"function_calling\":True,\n",
    "        \"json_output\": False\n",
    "    }\n",
    ")\n",
    "\n",
    "\n",
    "response = await open_router_model_client.create([UserMessage(content=\"What is the capital of France?\", source=\"user\")])\n",
    "\n",
    "print(response.content)"
   ]
  },
  {
   "cell_type": "code",
   "execution_count": null,
   "id": "e3bd72fa",
   "metadata": {},
   "outputs": [],
   "source": []
  }
 ],
 "metadata": {
  "kernelspec": {
   "display_name": "autogen-venv",
   "language": "python",
   "name": "python3"
  },
  "language_info": {
   "codemirror_mode": {
    "name": "ipython",
    "version": 3
   },
   "file_extension": ".py",
   "mimetype": "text/x-python",
   "name": "python",
   "nbconvert_exporter": "python",
   "pygments_lexer": "ipython3",
   "version": "3.12.11"
  }
 },
 "nbformat": 4,
 "nbformat_minor": 5
}
